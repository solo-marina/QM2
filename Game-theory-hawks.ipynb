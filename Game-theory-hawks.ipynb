{
  "cells": [
    {
      "cell_type": "markdown",
      "metadata": {
        "id": "view-in-github",
        "colab_type": "text"
      },
      "source": [
        "<a href=\"https://colab.research.google.com/github/solo-marina/QM2/blob/main/Game-theory-hawks.ipynb\" target=\"_parent\"><img src=\"https://colab.research.google.com/assets/colab-badge.svg\" alt=\"Open In Colab\"/></a>"
      ]
    },
    {
      "cell_type": "markdown",
      "metadata": {
        "id": "92xjWEKeInDL"
      },
      "source": [
        "# Python Recap\n",
        "\n",
        "## *Workshop 1*  [![Open In Colab](https://github.com/oballinger/QM2/blob/main/colab-badge.png?raw=1)](https://colab.research.google.com/github/oballinger/QM2/blob/main/notebooks/W01.%20Python%20Recap.ipynb)\n",
        "\n",
        "## Registering a GitHub account\n",
        "\n",
        "Before we get started, we need to set a few things up. GitHub is a platform for software development and version control using Git, allowing developers to store and manage their code. Think of it as google docs but for code-- it will be very useful for collaborating on your group projects later in the term, and in your future as a data analyst.\n",
        "\n",
        "1. Use [this link](https://github.com/join) to register for a GitHub account if you don't already have one.\n",
        "2. Once that's done, [create a new github repository](https://github.com/new) called \"QM2\".\n",
        "3. In this notebook, click \"File\" and then \"Save a copy in GitHub\".\n",
        "\n",
        "Voila! You now have a version of this notebook saved to your own GitHub account. *You will need to do step 3 for all the workshops!* Now, on to python.\n",
        "\n",
        "## Using Python\n",
        "\n",
        "In this course, we'll make extensive use of *Python*, a programming language used widely in scientific computing and on the web. We will be using Python as a way to manipulate, plot and analyse data. This isn't a course about learning Python, it's about working with data - but we'll learning a little bit of programming along the way.\n",
        "\n",
        "By now, you should have done the prerequisites for the module, and understand a bit about how Python is structured, what different commands do, and so on - this is a bit of a refresher to remind you of what we need at the beginning of term.\n",
        "\n",
        "The particular flavour of Python we're using is *iPython*, which, as we've seen, allows us to combine text, code, images, equations and figures in a *Notebook*. This is a *cell*, written in *markdown* - a way of writing nice text. Contrast this with *code* cell, which executes a bit of Python:"
      ]
    },
    {
      "cell_type": "code",
      "source": [],
      "metadata": {
        "id": "X4KIgmRJiD-W"
      },
      "execution_count": null,
      "outputs": []
    },
    {
      "cell_type": "code",
      "execution_count": null,
      "metadata": {
        "id": "S1siXLpdInDM",
        "outputId": "6e2e69eb-5ad3-4079-e52a-b2b154585d12",
        "colab": {
          "base_uri": "https://localhost:8080/"
        }
      },
      "outputs": [
        {
          "output_type": "stream",
          "name": "stdout",
          "text": [
            "2\n"
          ]
        }
      ],
      "source": [
        "print(1+1)"
      ]
    },
    {
      "cell_type": "markdown",
      "metadata": {
        "id": "RUiPNXLiInDQ"
      },
      "source": [
        "The Notebook format allows you to engage in what Don Knuth describes as [Literate Programming](http://en.wikipedia.org/wiki/Literate_programming):\n",
        "\n",
        "> […] Instead of writing code containing documentation, the literate programmer writes documentation containing code. No longer does the English commentary injected into a program have to be hidden in comment delimiters at the top of the file, or under procedure headings, or at the end of lines. Instead, it is wrenched into the daylight and made the main focus. The \"program\" then becomes primarily a document directed at humans, with the code being herded between \"code delimiters\" from where it can be extracted and shuffled out sideways to the language system by literate programming tools.\n",
        "[Ross Williams][1]\n",
        "\n",
        "[1]: http://www.literateprogramming.com/lpquotes.html"
      ]
    },
    {
      "cell_type": "markdown",
      "metadata": {
        "id": "NT4CsLCxInDQ"
      },
      "source": [
        "Libraries\n",
        "---------\n",
        "\n",
        "We will work with a number of *libraries*, which provide additional functions and techniques to help us to carry out our tasks.\n",
        "\n",
        "These include:\n",
        "\n",
        "*Pandas:* we'll use this a lot to slice and dice data\n",
        "\n",
        "*matplotlib*: this is our basic graphing software, and we'll also use it for mapping\n",
        "\n",
        "*nltk*: The Natural Language Tool Kit will help us work with text\n",
        "\n",
        "We aren't doing all this to learn to program. We could spend a whole term learning how to use Python and never look at any data, maps, graphs, or visualisations. But we do need to understand a few basics to use Python for working with data. So let's revisit a few concepts that you should have covered in your prerequisites."
      ]
    },
    {
      "cell_type": "markdown",
      "metadata": {
        "id": "jm4XtcfaInDR"
      },
      "source": [
        "Variables\n",
        "---------\n",
        "\n",
        "Python can broadly be divided in verbs and nouns: things which *do* things, and things which *are* things. In Python, the verbs can be *commands*, *functions*, or *methods*. We won't worry too much about the distinction here - suffice it to say, they are the parts of code which manipulate data, calculate values, or show things on the screen.\n",
        "\n",
        "The simplest proper noun object in Python is the *variable*. Variables are given names and store information. This can be, for example, numeric, text, or boolean (true/false). These are all statements setting up variables:\n",
        "\n",
        "n = 1\n",
        "\n",
        "t = \"hi\"\n",
        "\n",
        "b = True\n",
        "\n",
        "Now let's try this in code:"
      ]
    },
    {
      "cell_type": "code",
      "execution_count": null,
      "metadata": {
        "id": "wbEBXSjyInDS"
      },
      "outputs": [],
      "source": [
        "n = 1\n",
        "\n",
        "t = \"hi\"\n",
        "\n",
        "b = True"
      ]
    },
    {
      "cell_type": "markdown",
      "metadata": {
        "id": "KEHhTkQRInDX"
      },
      "source": [
        "Note that each command is on a new line; other than that, the *syntax* of Python should be fairly clear. We're setting these variables equal to the letters and numbers and phrases and booleans. **What's a boolean?**\n",
        "\n",
        "The value of this is we now have values tied to these variables - so every time we want to use it, we can refer to the variable:"
      ]
    },
    {
      "cell_type": "code",
      "execution_count": null,
      "metadata": {
        "id": "mX21mc1GInDY",
        "outputId": "051cd0e7-16c5-40dc-b916-24b82e1595cc"
      },
      "outputs": [
        {
          "data": {
            "text/plain": [
              "1"
            ]
          },
          "execution_count": 12,
          "metadata": {},
          "output_type": "execute_result"
        }
      ],
      "source": [
        "n"
      ]
    },
    {
      "cell_type": "code",
      "execution_count": null,
      "metadata": {
        "id": "H_i_d3GXInDb",
        "outputId": "66d2ac01-d43a-410e-916c-e4d1da81ea5d"
      },
      "outputs": [
        {
          "data": {
            "text/plain": [
              "'hi'"
            ]
          },
          "execution_count": 13,
          "metadata": {},
          "output_type": "execute_result"
        }
      ],
      "source": [
        "t"
      ]
    },
    {
      "cell_type": "code",
      "execution_count": null,
      "metadata": {
        "id": "97crKLfSInDe",
        "outputId": "2112c8eb-4e79-4e0f-cdae-3375d77e6c76"
      },
      "outputs": [
        {
          "data": {
            "text/plain": [
              "True"
            ]
          },
          "execution_count": 14,
          "metadata": {},
          "output_type": "execute_result"
        }
      ],
      "source": [
        "b"
      ]
    },
    {
      "cell_type": "markdown",
      "metadata": {
        "id": "3E8UNGUMInDh"
      },
      "source": [
        "Because we've defined these variables in the early part of the notebook, we can use them later on."
      ]
    },
    {
      "cell_type": "markdown",
      "metadata": {
        "id": "HwHT5mDBInDh"
      },
      "source": [
        "***Advanced**: where do **classes** fit into this noun/verb picture of variables and commands?*"
      ]
    },
    {
      "cell_type": "markdown",
      "metadata": {
        "id": "XTcrfSHQInDi"
      },
      "source": [
        "Where is my data?\n",
        "-----------------\n",
        "\n",
        "When we work in excel and text editors, we're used to seeing the data onscreen - and if we manipulate the data in some way (averaging or summing up), we see both the inputs and outputs on screen. The big difference in working with Python is that we don't see our variables all of the time, or the effect we're having on them. They're there in the background, but it's usually worth checking in on them from time to time, to see whether our processes are doing what we think they're doing.\n",
        "\n",
        "This is pretty easy to do - we can just type the variable name, or \"print(*variable name*)\":"
      ]
    },
    {
      "cell_type": "code",
      "execution_count": null,
      "metadata": {
        "id": "rW3iJbkoInDk",
        "outputId": "4d01b9d9-1ce7-4037-8ab4-5587507fddaf"
      },
      "outputs": [
        {
          "name": "stdout",
          "output_type": "stream",
          "text": [
            "2\n",
            "hi\n",
            "True\n"
          ]
        }
      ],
      "source": [
        "n = n+1\n",
        "print(n)\n",
        "print(t)\n",
        "print(b)"
      ]
    },
    {
      "cell_type": "markdown",
      "metadata": {
        "id": "Z5tctl6AInDo"
      },
      "source": [
        "Flow\n",
        "----\n",
        "\n",
        "Python, in common with all programming languages, executes commands in a sequence - we might refer to this as the \"ineluctable march of the machines\", but it's more common referred to as the *flow* of the code (we'll use the word \"code\" a lot - it just means commands written in the programming language). In most cases, code just executes in the order it's written. This is true within each *cell* (each block of text in the notebook), and it's true when we execute the cells in order; that's why we can refer back to the variables we defined earlier:"
      ]
    },
    {
      "cell_type": "code",
      "execution_count": null,
      "metadata": {
        "id": "z_2Y9lctInDp",
        "outputId": "e035e3bd-4eae-4ad8-a577-abe28736a0c4"
      },
      "outputs": [
        {
          "name": "stdout",
          "output_type": "stream",
          "text": [
            "2\n"
          ]
        }
      ],
      "source": [
        "print(n)"
      ]
    },
    {
      "cell_type": "markdown",
      "metadata": {
        "id": "DtVel6vZInDs"
      },
      "source": [
        "If we make a change to one of these variables, say n:"
      ]
    },
    {
      "cell_type": "code",
      "execution_count": null,
      "metadata": {
        "id": "7ykZEOWTInDt"
      },
      "outputs": [],
      "source": [
        "n = 3"
      ]
    },
    {
      "cell_type": "markdown",
      "metadata": {
        "id": "Ikdjeq60InDx"
      },
      "source": [
        "and execute the above \"print n\" command, you'll see that it has changed n to 3. So if we go out of order, the obvious flow of the code is confused. For this reason, try to write your code so it executes in order, one cell at a time. At least for the moment, this will make it easier to follow the logic of what you're doing to data."
      ]
    },
    {
      "cell_type": "markdown",
      "metadata": {
        "id": "QwExWMcdInDy"
      },
      "source": [
        "*Advanced*: what happens to this flow when you write *functions* to automate common tasks?"
      ]
    },
    {
      "cell_type": "markdown",
      "metadata": {
        "id": "8Y6m2F8pInDy"
      },
      "source": [
        "***Exercise - Setting up variables***:\n",
        "\n",
        "\n",
        "1. Create a new cell.\n",
        "\n",
        "2. Create the variables \"name\", and assign your name to it.\n",
        "\n",
        "3. Create a variable \"Python\" and assign a score out of 10 to how much you like Python.\n",
        "\n",
        "4. Create a variable \"prior\" and if you've used Python before, assign True; otherwise assign False to the variable\n",
        "\n",
        "5. Print these out to the screen"
      ]
    },
    {
      "cell_type": "code",
      "execution_count": null,
      "metadata": {
        "id": "VdjbUdczJyqr",
        "outputId": "9f13518a-3806-41ea-ba47-6e5d0880b617",
        "colab": {
          "base_uri": "https://localhost:8080/"
        }
      },
      "outputs": [
        {
          "output_type": "stream",
          "name": "stdout",
          "text": [
            "Marina 2 False\n"
          ]
        }
      ],
      "source": [
        "name='Marina'\n",
        "Python=2\n",
        "prior=False\n",
        "print(name, Python, prior  )"
      ]
    },
    {
      "cell_type": "markdown",
      "metadata": {
        "id": "V1cvj5vOInDy"
      },
      "source": [
        "Downloading Data\n",
        "--------------------------\n",
        "\n",
        "Lets fetch the data we will be using for this session. There are two ways in which you can upload data to the Colab notebook. You can use the following code to upload a CSV or similar data file.\n"
      ]
    },
    {
      "cell_type": "code",
      "execution_count": null,
      "metadata": {
        "id": "7Hqi7hA1KEGi",
        "outputId": "fd06e63b-cd4c-4b94-c9f6-c3b385e46b08",
        "colab": {
          "base_uri": "https://localhost:8080/",
          "height": 391
        }
      },
      "outputs": [
        {
          "output_type": "display_data",
          "data": {
            "text/plain": [
              "<IPython.core.display.HTML object>"
            ],
            "text/html": [
              "\n",
              "     <input type=\"file\" id=\"files-0ed9f807-0883-4bbf-aee7-9c53561bbe64\" name=\"files[]\" multiple disabled\n",
              "        style=\"border:none\" />\n",
              "     <output id=\"result-0ed9f807-0883-4bbf-aee7-9c53561bbe64\">\n",
              "      Upload widget is only available when the cell has been executed in the\n",
              "      current browser session. Please rerun this cell to enable.\n",
              "      </output>\n",
              "      <script>// Copyright 2017 Google LLC\n",
              "//\n",
              "// Licensed under the Apache License, Version 2.0 (the \"License\");\n",
              "// you may not use this file except in compliance with the License.\n",
              "// You may obtain a copy of the License at\n",
              "//\n",
              "//      http://www.apache.org/licenses/LICENSE-2.0\n",
              "//\n",
              "// Unless required by applicable law or agreed to in writing, software\n",
              "// distributed under the License is distributed on an \"AS IS\" BASIS,\n",
              "// WITHOUT WARRANTIES OR CONDITIONS OF ANY KIND, either express or implied.\n",
              "// See the License for the specific language governing permissions and\n",
              "// limitations under the License.\n",
              "\n",
              "/**\n",
              " * @fileoverview Helpers for google.colab Python module.\n",
              " */\n",
              "(function(scope) {\n",
              "function span(text, styleAttributes = {}) {\n",
              "  const element = document.createElement('span');\n",
              "  element.textContent = text;\n",
              "  for (const key of Object.keys(styleAttributes)) {\n",
              "    element.style[key] = styleAttributes[key];\n",
              "  }\n",
              "  return element;\n",
              "}\n",
              "\n",
              "// Max number of bytes which will be uploaded at a time.\n",
              "const MAX_PAYLOAD_SIZE = 100 * 1024;\n",
              "\n",
              "function _uploadFiles(inputId, outputId) {\n",
              "  const steps = uploadFilesStep(inputId, outputId);\n",
              "  const outputElement = document.getElementById(outputId);\n",
              "  // Cache steps on the outputElement to make it available for the next call\n",
              "  // to uploadFilesContinue from Python.\n",
              "  outputElement.steps = steps;\n",
              "\n",
              "  return _uploadFilesContinue(outputId);\n",
              "}\n",
              "\n",
              "// This is roughly an async generator (not supported in the browser yet),\n",
              "// where there are multiple asynchronous steps and the Python side is going\n",
              "// to poll for completion of each step.\n",
              "// This uses a Promise to block the python side on completion of each step,\n",
              "// then passes the result of the previous step as the input to the next step.\n",
              "function _uploadFilesContinue(outputId) {\n",
              "  const outputElement = document.getElementById(outputId);\n",
              "  const steps = outputElement.steps;\n",
              "\n",
              "  const next = steps.next(outputElement.lastPromiseValue);\n",
              "  return Promise.resolve(next.value.promise).then((value) => {\n",
              "    // Cache the last promise value to make it available to the next\n",
              "    // step of the generator.\n",
              "    outputElement.lastPromiseValue = value;\n",
              "    return next.value.response;\n",
              "  });\n",
              "}\n",
              "\n",
              "/**\n",
              " * Generator function which is called between each async step of the upload\n",
              " * process.\n",
              " * @param {string} inputId Element ID of the input file picker element.\n",
              " * @param {string} outputId Element ID of the output display.\n",
              " * @return {!Iterable<!Object>} Iterable of next steps.\n",
              " */\n",
              "function* uploadFilesStep(inputId, outputId) {\n",
              "  const inputElement = document.getElementById(inputId);\n",
              "  inputElement.disabled = false;\n",
              "\n",
              "  const outputElement = document.getElementById(outputId);\n",
              "  outputElement.innerHTML = '';\n",
              "\n",
              "  const pickedPromise = new Promise((resolve) => {\n",
              "    inputElement.addEventListener('change', (e) => {\n",
              "      resolve(e.target.files);\n",
              "    });\n",
              "  });\n",
              "\n",
              "  const cancel = document.createElement('button');\n",
              "  inputElement.parentElement.appendChild(cancel);\n",
              "  cancel.textContent = 'Cancel upload';\n",
              "  const cancelPromise = new Promise((resolve) => {\n",
              "    cancel.onclick = () => {\n",
              "      resolve(null);\n",
              "    };\n",
              "  });\n",
              "\n",
              "  // Wait for the user to pick the files.\n",
              "  const files = yield {\n",
              "    promise: Promise.race([pickedPromise, cancelPromise]),\n",
              "    response: {\n",
              "      action: 'starting',\n",
              "    }\n",
              "  };\n",
              "\n",
              "  cancel.remove();\n",
              "\n",
              "  // Disable the input element since further picks are not allowed.\n",
              "  inputElement.disabled = true;\n",
              "\n",
              "  if (!files) {\n",
              "    return {\n",
              "      response: {\n",
              "        action: 'complete',\n",
              "      }\n",
              "    };\n",
              "  }\n",
              "\n",
              "  for (const file of files) {\n",
              "    const li = document.createElement('li');\n",
              "    li.append(span(file.name, {fontWeight: 'bold'}));\n",
              "    li.append(span(\n",
              "        `(${file.type || 'n/a'}) - ${file.size} bytes, ` +\n",
              "        `last modified: ${\n",
              "            file.lastModifiedDate ? file.lastModifiedDate.toLocaleDateString() :\n",
              "                                    'n/a'} - `));\n",
              "    const percent = span('0% done');\n",
              "    li.appendChild(percent);\n",
              "\n",
              "    outputElement.appendChild(li);\n",
              "\n",
              "    const fileDataPromise = new Promise((resolve) => {\n",
              "      const reader = new FileReader();\n",
              "      reader.onload = (e) => {\n",
              "        resolve(e.target.result);\n",
              "      };\n",
              "      reader.readAsArrayBuffer(file);\n",
              "    });\n",
              "    // Wait for the data to be ready.\n",
              "    let fileData = yield {\n",
              "      promise: fileDataPromise,\n",
              "      response: {\n",
              "        action: 'continue',\n",
              "      }\n",
              "    };\n",
              "\n",
              "    // Use a chunked sending to avoid message size limits. See b/62115660.\n",
              "    let position = 0;\n",
              "    do {\n",
              "      const length = Math.min(fileData.byteLength - position, MAX_PAYLOAD_SIZE);\n",
              "      const chunk = new Uint8Array(fileData, position, length);\n",
              "      position += length;\n",
              "\n",
              "      const base64 = btoa(String.fromCharCode.apply(null, chunk));\n",
              "      yield {\n",
              "        response: {\n",
              "          action: 'append',\n",
              "          file: file.name,\n",
              "          data: base64,\n",
              "        },\n",
              "      };\n",
              "\n",
              "      let percentDone = fileData.byteLength === 0 ?\n",
              "          100 :\n",
              "          Math.round((position / fileData.byteLength) * 100);\n",
              "      percent.textContent = `${percentDone}% done`;\n",
              "\n",
              "    } while (position < fileData.byteLength);\n",
              "  }\n",
              "\n",
              "  // All done.\n",
              "  yield {\n",
              "    response: {\n",
              "      action: 'complete',\n",
              "    }\n",
              "  };\n",
              "}\n",
              "\n",
              "scope.google = scope.google || {};\n",
              "scope.google.colab = scope.google.colab || {};\n",
              "scope.google.colab._files = {\n",
              "  _uploadFiles,\n",
              "  _uploadFilesContinue,\n",
              "};\n",
              "})(self);\n",
              "</script> "
            ]
          },
          "metadata": {}
        },
        {
          "output_type": "error",
          "ename": "KeyboardInterrupt",
          "evalue": "ignored",
          "traceback": [
            "\u001b[0;31m---------------------------------------------------------------------------\u001b[0m",
            "\u001b[0;31mKeyboardInterrupt\u001b[0m                         Traceback (most recent call last)",
            "\u001b[0;32m<ipython-input-10-21dc3c638f66>\u001b[0m in \u001b[0;36m<cell line: 2>\u001b[0;34m()\u001b[0m\n\u001b[1;32m      1\u001b[0m \u001b[0;32mfrom\u001b[0m \u001b[0mgoogle\u001b[0m\u001b[0;34m.\u001b[0m\u001b[0mcolab\u001b[0m \u001b[0;32mimport\u001b[0m \u001b[0mfiles\u001b[0m\u001b[0;34m\u001b[0m\u001b[0;34m\u001b[0m\u001b[0m\n\u001b[0;32m----> 2\u001b[0;31m \u001b[0muploaded\u001b[0m \u001b[0;34m=\u001b[0m \u001b[0mfiles\u001b[0m\u001b[0;34m.\u001b[0m\u001b[0mupload\u001b[0m\u001b[0;34m(\u001b[0m\u001b[0;34m)\u001b[0m\u001b[0;34m\u001b[0m\u001b[0;34m\u001b[0m\u001b[0m\n\u001b[0m",
            "\u001b[0;32m/usr/local/lib/python3.10/dist-packages/google/colab/files.py\u001b[0m in \u001b[0;36mupload\u001b[0;34m()\u001b[0m\n\u001b[1;32m     67\u001b[0m   \"\"\"\n\u001b[1;32m     68\u001b[0m \u001b[0;34m\u001b[0m\u001b[0m\n\u001b[0;32m---> 69\u001b[0;31m   \u001b[0muploaded_files\u001b[0m \u001b[0;34m=\u001b[0m \u001b[0m_upload_files\u001b[0m\u001b[0;34m(\u001b[0m\u001b[0mmultiple\u001b[0m\u001b[0;34m=\u001b[0m\u001b[0;32mTrue\u001b[0m\u001b[0;34m)\u001b[0m\u001b[0;34m\u001b[0m\u001b[0;34m\u001b[0m\u001b[0m\n\u001b[0m\u001b[1;32m     70\u001b[0m   \u001b[0;31m# Mapping from original filename to filename as saved locally.\u001b[0m\u001b[0;34m\u001b[0m\u001b[0;34m\u001b[0m\u001b[0m\n\u001b[1;32m     71\u001b[0m   \u001b[0mlocal_filenames\u001b[0m \u001b[0;34m=\u001b[0m \u001b[0mdict\u001b[0m\u001b[0;34m(\u001b[0m\u001b[0;34m)\u001b[0m\u001b[0;34m\u001b[0m\u001b[0;34m\u001b[0m\u001b[0m\n",
            "\u001b[0;32m/usr/local/lib/python3.10/dist-packages/google/colab/files.py\u001b[0m in \u001b[0;36m_upload_files\u001b[0;34m(multiple)\u001b[0m\n\u001b[1;32m    154\u001b[0m \u001b[0;34m\u001b[0m\u001b[0m\n\u001b[1;32m    155\u001b[0m   \u001b[0;31m# First result is always an indication that the file picker has completed.\u001b[0m\u001b[0;34m\u001b[0m\u001b[0;34m\u001b[0m\u001b[0m\n\u001b[0;32m--> 156\u001b[0;31m   result = _output.eval_js(\n\u001b[0m\u001b[1;32m    157\u001b[0m       'google.colab._files._uploadFiles(\"{input_id}\", \"{output_id}\")'.format(\n\u001b[1;32m    158\u001b[0m           \u001b[0minput_id\u001b[0m\u001b[0;34m=\u001b[0m\u001b[0minput_id\u001b[0m\u001b[0;34m,\u001b[0m \u001b[0moutput_id\u001b[0m\u001b[0;34m=\u001b[0m\u001b[0moutput_id\u001b[0m\u001b[0;34m\u001b[0m\u001b[0;34m\u001b[0m\u001b[0m\n",
            "\u001b[0;32m/usr/local/lib/python3.10/dist-packages/google/colab/output/_js.py\u001b[0m in \u001b[0;36meval_js\u001b[0;34m(script, ignore_result, timeout_sec)\u001b[0m\n\u001b[1;32m     38\u001b[0m   \u001b[0;32mif\u001b[0m \u001b[0mignore_result\u001b[0m\u001b[0;34m:\u001b[0m\u001b[0;34m\u001b[0m\u001b[0;34m\u001b[0m\u001b[0m\n\u001b[1;32m     39\u001b[0m     \u001b[0;32mreturn\u001b[0m\u001b[0;34m\u001b[0m\u001b[0;34m\u001b[0m\u001b[0m\n\u001b[0;32m---> 40\u001b[0;31m   \u001b[0;32mreturn\u001b[0m \u001b[0m_message\u001b[0m\u001b[0;34m.\u001b[0m\u001b[0mread_reply_from_input\u001b[0m\u001b[0;34m(\u001b[0m\u001b[0mrequest_id\u001b[0m\u001b[0;34m,\u001b[0m \u001b[0mtimeout_sec\u001b[0m\u001b[0;34m)\u001b[0m\u001b[0;34m\u001b[0m\u001b[0;34m\u001b[0m\u001b[0m\n\u001b[0m\u001b[1;32m     41\u001b[0m \u001b[0;34m\u001b[0m\u001b[0m\n\u001b[1;32m     42\u001b[0m \u001b[0;34m\u001b[0m\u001b[0m\n",
            "\u001b[0;32m/usr/local/lib/python3.10/dist-packages/google/colab/_message.py\u001b[0m in \u001b[0;36mread_reply_from_input\u001b[0;34m(message_id, timeout_sec)\u001b[0m\n\u001b[1;32m     94\u001b[0m     \u001b[0mreply\u001b[0m \u001b[0;34m=\u001b[0m \u001b[0m_read_next_input_message\u001b[0m\u001b[0;34m(\u001b[0m\u001b[0;34m)\u001b[0m\u001b[0;34m\u001b[0m\u001b[0;34m\u001b[0m\u001b[0m\n\u001b[1;32m     95\u001b[0m     \u001b[0;32mif\u001b[0m \u001b[0mreply\u001b[0m \u001b[0;34m==\u001b[0m \u001b[0m_NOT_READY\u001b[0m \u001b[0;32mor\u001b[0m \u001b[0;32mnot\u001b[0m \u001b[0misinstance\u001b[0m\u001b[0;34m(\u001b[0m\u001b[0mreply\u001b[0m\u001b[0;34m,\u001b[0m \u001b[0mdict\u001b[0m\u001b[0;34m)\u001b[0m\u001b[0;34m:\u001b[0m\u001b[0;34m\u001b[0m\u001b[0;34m\u001b[0m\u001b[0m\n\u001b[0;32m---> 96\u001b[0;31m       \u001b[0mtime\u001b[0m\u001b[0;34m.\u001b[0m\u001b[0msleep\u001b[0m\u001b[0;34m(\u001b[0m\u001b[0;36m0.025\u001b[0m\u001b[0;34m)\u001b[0m\u001b[0;34m\u001b[0m\u001b[0;34m\u001b[0m\u001b[0m\n\u001b[0m\u001b[1;32m     97\u001b[0m       \u001b[0;32mcontinue\u001b[0m\u001b[0;34m\u001b[0m\u001b[0;34m\u001b[0m\u001b[0m\n\u001b[1;32m     98\u001b[0m     if (\n",
            "\u001b[0;31mKeyboardInterrupt\u001b[0m: "
          ]
        }
      ],
      "source": [
        "from google.colab import files\n",
        "uploaded = files.upload()"
      ]
    },
    {
      "cell_type": "markdown",
      "metadata": {
        "id": "bTj0JTk4J-yt"
      },
      "source": [
        "Or you can use the following cell to fetch the data directly from the QM2 server.\n",
        "\n",
        "Let's create a folder that we can store all our data for this session"
      ]
    },
    {
      "cell_type": "code",
      "execution_count": null,
      "metadata": {
        "id": "dJf-hrVaInDz"
      },
      "outputs": [],
      "source": [
        "!mkdir data"
      ]
    },
    {
      "cell_type": "code",
      "execution_count": null,
      "metadata": {
        "colab": {
          "base_uri": "https://localhost:8080/"
        },
        "id": "8x7inUgzInD1",
        "outputId": "6901cff9-beb2-4d79-af4d-907fa3740c9e"
      },
      "outputs": [
        {
          "output_type": "stream",
          "name": "stdout",
          "text": [
            "  % Total    % Received % Xferd  Average Speed   Time    Time     Time  Current\n",
            "                                 Dload  Upload   Total   Spent    Left  Speed\n",
            "100   203  100   203    0     0    303      0 --:--:-- --:--:-- --:--:--   303\n",
            "  % Total    % Received % Xferd  Average Speed   Time    Time     Time  Current\n",
            "                                 Dload  Upload   Total   Spent    Left  Speed\n",
            "100   297  100   297    0     0    467      0 --:--:-- --:--:-- --:--:--   467\n"
          ]
        }
      ],
      "source": [
        "!mkdir ./data/wk1\n",
        "!curl https://s3.eu-west-2.amazonaws.com/qm2/wk1/data.csv -o ./data/wk1/data.csv\n",
        "!curl https://s3.eu-west-2.amazonaws.com/qm2/wk1/sample_group.csv -o ./data/wk1/sample_group.csv"
      ]
    },
    {
      "cell_type": "markdown",
      "metadata": {
        "id": "ZpTwNZymInD5"
      },
      "source": [
        "Storing and importing data\n",
        "--------------------------\n",
        "\n",
        "Typically, data we look at won't be just one number, or one bit of text. Python has a lot of different ways of dealing with a bunch of numbers: for example, a list of values is called a **list**:"
      ]
    },
    {
      "cell_type": "code",
      "execution_count": null,
      "metadata": {
        "colab": {
          "base_uri": "https://localhost:8080/"
        },
        "id": "xNJEZ5g1InD6",
        "outputId": "65d1418b-3377-4f27-af45-211f5bac9575"
      },
      "outputs": [
        {
          "output_type": "stream",
          "name": "stdout",
          "text": [
            "[1, 2, 3, 6, 9]\n"
          ]
        }
      ],
      "source": [
        "listy = [1,2,3,6,9]\n",
        "print(listy)"
      ]
    },
    {
      "cell_type": "markdown",
      "metadata": {
        "id": "w6LaLn3pInD-"
      },
      "source": [
        "A set of values *linked* to an index (or key) is called a **dictionary**; for example:"
      ]
    },
    {
      "cell_type": "code",
      "execution_count": null,
      "metadata": {
        "colab": {
          "base_uri": "https://localhost:8080/"
        },
        "id": "McspnzcDInD_",
        "outputId": "4bc618dc-9680-4785-9f97-944c1c202f62"
      },
      "outputs": [
        {
          "output_type": "stream",
          "name": "stdout",
          "text": [
            "{'Bob': 1.2, 'Mike': 1.2, 'Coop': 1.1, 'Maddy': 1.3, 'Giant': 2.1}\n"
          ]
        }
      ],
      "source": [
        "dicty = {'Bob': 1.2, 'Mike': 1.2, 'Coop': 1.1, 'Maddy': 1.3, 'Giant': 2.1}\n",
        "print(dicty)"
      ]
    },
    {
      "cell_type": "markdown",
      "metadata": {
        "id": "nKd_aimvInEC"
      },
      "source": [
        "Notice that the list uses square brackets with values separated by commas, and the dict uses curly brackets with pairs separated by commas, and colons (:) to link a *key* (index or address) with a value.\n",
        "\n",
        "(You might notice that they haven't printed out in the order you entered them)"
      ]
    },
    {
      "cell_type": "markdown",
      "metadata": {
        "id": "ynwZr-GaInEC"
      },
      "source": [
        "***Advanced**: Print out 1) The third element of **listy**, and 2) The element of **dicty** relating to Giant"
      ]
    },
    {
      "cell_type": "code",
      "execution_count": null,
      "metadata": {
        "id": "q7iWJ5X9InED",
        "outputId": "4a6aa3ea-4bb1-4652-d71e-ef73222c2830",
        "colab": {
          "base_uri": "https://localhost:8080/"
        }
      },
      "outputs": [
        {
          "output_type": "stream",
          "name": "stdout",
          "text": [
            "6\n",
            "2.1\n"
          ]
        }
      ],
      "source": [
        "m=listy[3]\n",
        "print(m)\n",
        "whaaat=dicty['Giant']\n",
        "print(whaaat)"
      ]
    },
    {
      "cell_type": "markdown",
      "metadata": {
        "id": "1Q3hnEfDInEG"
      },
      "source": [
        "We'll discuss different ways of organising data again soon, but for now we'll look at *dataframes* - the way our data-friendly *library* **Pandas** works with data. We'll be using Pandas a lot this term, so it's good to get started with it early.\n",
        "\n",
        "Let's start by importing pandas. We'll also import another library, but we're not going to worry about that too much at the moment.  \n",
        "\n",
        "If you see a warning about 'Building Font Cache' don't worry - this is normal."
      ]
    },
    {
      "cell_type": "code",
      "execution_count": null,
      "metadata": {
        "id": "-ZSM3GvqInEG"
      },
      "outputs": [],
      "source": [
        "import pandas\n",
        "\n",
        "import matplotlib\n",
        "%matplotlib inline"
      ]
    },
    {
      "cell_type": "markdown",
      "metadata": {
        "id": "AhOFPn8sInEJ"
      },
      "source": [
        "Let's import a simple dataset and show it in pandas. We'll use a pre-prepared \".csv\" file, which needs to be in the same folder as our code."
      ]
    },
    {
      "cell_type": "code",
      "execution_count": null,
      "metadata": {
        "colab": {
          "base_uri": "https://localhost:8080/",
          "height": 367
        },
        "id": "zApWGKanInEJ",
        "outputId": "b55167bc-0f04-4476-a4cd-018a1719d6d2"
      },
      "outputs": [
        {
          "output_type": "error",
          "ename": "FileNotFoundError",
          "evalue": "ignored",
          "traceback": [
            "\u001b[0;31m---------------------------------------------------------------------------\u001b[0m",
            "\u001b[0;31mFileNotFoundError\u001b[0m                         Traceback (most recent call last)",
            "\u001b[0;32m<ipython-input-3-9728b256338c>\u001b[0m in \u001b[0;36m<cell line: 1>\u001b[0;34m()\u001b[0m\n\u001b[0;32m----> 1\u001b[0;31m \u001b[0mdata\u001b[0m \u001b[0;34m=\u001b[0m \u001b[0mpandas\u001b[0m\u001b[0;34m.\u001b[0m\u001b[0mread_csv\u001b[0m\u001b[0;34m(\u001b[0m\u001b[0;34m'./data/wk1/data.csv'\u001b[0m\u001b[0;34m)\u001b[0m\u001b[0;34m\u001b[0m\u001b[0;34m\u001b[0m\u001b[0m\n\u001b[0m\u001b[1;32m      2\u001b[0m \u001b[0mdata\u001b[0m\u001b[0;34m.\u001b[0m\u001b[0mhead\u001b[0m\u001b[0;34m(\u001b[0m\u001b[0;34m)\u001b[0m\u001b[0;34m\u001b[0m\u001b[0;34m\u001b[0m\u001b[0m\n",
            "\u001b[0;32m/usr/local/lib/python3.10/dist-packages/pandas/util/_decorators.py\u001b[0m in \u001b[0;36mwrapper\u001b[0;34m(*args, **kwargs)\u001b[0m\n\u001b[1;32m    209\u001b[0m                 \u001b[0;32melse\u001b[0m\u001b[0;34m:\u001b[0m\u001b[0;34m\u001b[0m\u001b[0;34m\u001b[0m\u001b[0m\n\u001b[1;32m    210\u001b[0m                     \u001b[0mkwargs\u001b[0m\u001b[0;34m[\u001b[0m\u001b[0mnew_arg_name\u001b[0m\u001b[0;34m]\u001b[0m \u001b[0;34m=\u001b[0m \u001b[0mnew_arg_value\u001b[0m\u001b[0;34m\u001b[0m\u001b[0;34m\u001b[0m\u001b[0m\n\u001b[0;32m--> 211\u001b[0;31m             \u001b[0;32mreturn\u001b[0m \u001b[0mfunc\u001b[0m\u001b[0;34m(\u001b[0m\u001b[0;34m*\u001b[0m\u001b[0margs\u001b[0m\u001b[0;34m,\u001b[0m \u001b[0;34m**\u001b[0m\u001b[0mkwargs\u001b[0m\u001b[0;34m)\u001b[0m\u001b[0;34m\u001b[0m\u001b[0;34m\u001b[0m\u001b[0m\n\u001b[0m\u001b[1;32m    212\u001b[0m \u001b[0;34m\u001b[0m\u001b[0m\n\u001b[1;32m    213\u001b[0m         \u001b[0;32mreturn\u001b[0m \u001b[0mcast\u001b[0m\u001b[0;34m(\u001b[0m\u001b[0mF\u001b[0m\u001b[0;34m,\u001b[0m \u001b[0mwrapper\u001b[0m\u001b[0;34m)\u001b[0m\u001b[0;34m\u001b[0m\u001b[0;34m\u001b[0m\u001b[0m\n",
            "\u001b[0;32m/usr/local/lib/python3.10/dist-packages/pandas/util/_decorators.py\u001b[0m in \u001b[0;36mwrapper\u001b[0;34m(*args, **kwargs)\u001b[0m\n\u001b[1;32m    329\u001b[0m                     \u001b[0mstacklevel\u001b[0m\u001b[0;34m=\u001b[0m\u001b[0mfind_stack_level\u001b[0m\u001b[0;34m(\u001b[0m\u001b[0;34m)\u001b[0m\u001b[0;34m,\u001b[0m\u001b[0;34m\u001b[0m\u001b[0;34m\u001b[0m\u001b[0m\n\u001b[1;32m    330\u001b[0m                 )\n\u001b[0;32m--> 331\u001b[0;31m             \u001b[0;32mreturn\u001b[0m \u001b[0mfunc\u001b[0m\u001b[0;34m(\u001b[0m\u001b[0;34m*\u001b[0m\u001b[0margs\u001b[0m\u001b[0;34m,\u001b[0m \u001b[0;34m**\u001b[0m\u001b[0mkwargs\u001b[0m\u001b[0;34m)\u001b[0m\u001b[0;34m\u001b[0m\u001b[0;34m\u001b[0m\u001b[0m\n\u001b[0m\u001b[1;32m    332\u001b[0m \u001b[0;34m\u001b[0m\u001b[0m\n\u001b[1;32m    333\u001b[0m         \u001b[0;31m# error: \"Callable[[VarArg(Any), KwArg(Any)], Any]\" has no\u001b[0m\u001b[0;34m\u001b[0m\u001b[0;34m\u001b[0m\u001b[0m\n",
            "\u001b[0;32m/usr/local/lib/python3.10/dist-packages/pandas/io/parsers/readers.py\u001b[0m in \u001b[0;36mread_csv\u001b[0;34m(filepath_or_buffer, sep, delimiter, header, names, index_col, usecols, squeeze, prefix, mangle_dupe_cols, dtype, engine, converters, true_values, false_values, skipinitialspace, skiprows, skipfooter, nrows, na_values, keep_default_na, na_filter, verbose, skip_blank_lines, parse_dates, infer_datetime_format, keep_date_col, date_parser, dayfirst, cache_dates, iterator, chunksize, compression, thousands, decimal, lineterminator, quotechar, quoting, doublequote, escapechar, comment, encoding, encoding_errors, dialect, error_bad_lines, warn_bad_lines, on_bad_lines, delim_whitespace, low_memory, memory_map, float_precision, storage_options)\u001b[0m\n\u001b[1;32m    948\u001b[0m     \u001b[0mkwds\u001b[0m\u001b[0;34m.\u001b[0m\u001b[0mupdate\u001b[0m\u001b[0;34m(\u001b[0m\u001b[0mkwds_defaults\u001b[0m\u001b[0;34m)\u001b[0m\u001b[0;34m\u001b[0m\u001b[0;34m\u001b[0m\u001b[0m\n\u001b[1;32m    949\u001b[0m \u001b[0;34m\u001b[0m\u001b[0m\n\u001b[0;32m--> 950\u001b[0;31m     \u001b[0;32mreturn\u001b[0m \u001b[0m_read\u001b[0m\u001b[0;34m(\u001b[0m\u001b[0mfilepath_or_buffer\u001b[0m\u001b[0;34m,\u001b[0m \u001b[0mkwds\u001b[0m\u001b[0;34m)\u001b[0m\u001b[0;34m\u001b[0m\u001b[0;34m\u001b[0m\u001b[0m\n\u001b[0m\u001b[1;32m    951\u001b[0m \u001b[0;34m\u001b[0m\u001b[0m\n\u001b[1;32m    952\u001b[0m \u001b[0;34m\u001b[0m\u001b[0m\n",
            "\u001b[0;32m/usr/local/lib/python3.10/dist-packages/pandas/io/parsers/readers.py\u001b[0m in \u001b[0;36m_read\u001b[0;34m(filepath_or_buffer, kwds)\u001b[0m\n\u001b[1;32m    603\u001b[0m \u001b[0;34m\u001b[0m\u001b[0m\n\u001b[1;32m    604\u001b[0m     \u001b[0;31m# Create the parser.\u001b[0m\u001b[0;34m\u001b[0m\u001b[0;34m\u001b[0m\u001b[0m\n\u001b[0;32m--> 605\u001b[0;31m     \u001b[0mparser\u001b[0m \u001b[0;34m=\u001b[0m \u001b[0mTextFileReader\u001b[0m\u001b[0;34m(\u001b[0m\u001b[0mfilepath_or_buffer\u001b[0m\u001b[0;34m,\u001b[0m \u001b[0;34m**\u001b[0m\u001b[0mkwds\u001b[0m\u001b[0;34m)\u001b[0m\u001b[0;34m\u001b[0m\u001b[0;34m\u001b[0m\u001b[0m\n\u001b[0m\u001b[1;32m    606\u001b[0m \u001b[0;34m\u001b[0m\u001b[0m\n\u001b[1;32m    607\u001b[0m     \u001b[0;32mif\u001b[0m \u001b[0mchunksize\u001b[0m \u001b[0;32mor\u001b[0m \u001b[0miterator\u001b[0m\u001b[0;34m:\u001b[0m\u001b[0;34m\u001b[0m\u001b[0;34m\u001b[0m\u001b[0m\n",
            "\u001b[0;32m/usr/local/lib/python3.10/dist-packages/pandas/io/parsers/readers.py\u001b[0m in \u001b[0;36m__init__\u001b[0;34m(self, f, engine, **kwds)\u001b[0m\n\u001b[1;32m   1440\u001b[0m \u001b[0;34m\u001b[0m\u001b[0m\n\u001b[1;32m   1441\u001b[0m         \u001b[0mself\u001b[0m\u001b[0;34m.\u001b[0m\u001b[0mhandles\u001b[0m\u001b[0;34m:\u001b[0m \u001b[0mIOHandles\u001b[0m \u001b[0;34m|\u001b[0m \u001b[0;32mNone\u001b[0m \u001b[0;34m=\u001b[0m \u001b[0;32mNone\u001b[0m\u001b[0;34m\u001b[0m\u001b[0;34m\u001b[0m\u001b[0m\n\u001b[0;32m-> 1442\u001b[0;31m         \u001b[0mself\u001b[0m\u001b[0;34m.\u001b[0m\u001b[0m_engine\u001b[0m \u001b[0;34m=\u001b[0m \u001b[0mself\u001b[0m\u001b[0;34m.\u001b[0m\u001b[0m_make_engine\u001b[0m\u001b[0;34m(\u001b[0m\u001b[0mf\u001b[0m\u001b[0;34m,\u001b[0m \u001b[0mself\u001b[0m\u001b[0;34m.\u001b[0m\u001b[0mengine\u001b[0m\u001b[0;34m)\u001b[0m\u001b[0;34m\u001b[0m\u001b[0;34m\u001b[0m\u001b[0m\n\u001b[0m\u001b[1;32m   1443\u001b[0m \u001b[0;34m\u001b[0m\u001b[0m\n\u001b[1;32m   1444\u001b[0m     \u001b[0;32mdef\u001b[0m \u001b[0mclose\u001b[0m\u001b[0;34m(\u001b[0m\u001b[0mself\u001b[0m\u001b[0;34m)\u001b[0m \u001b[0;34m->\u001b[0m \u001b[0;32mNone\u001b[0m\u001b[0;34m:\u001b[0m\u001b[0;34m\u001b[0m\u001b[0;34m\u001b[0m\u001b[0m\n",
            "\u001b[0;32m/usr/local/lib/python3.10/dist-packages/pandas/io/parsers/readers.py\u001b[0m in \u001b[0;36m_make_engine\u001b[0;34m(self, f, engine)\u001b[0m\n\u001b[1;32m   1733\u001b[0m                 \u001b[0;32mif\u001b[0m \u001b[0;34m\"b\"\u001b[0m \u001b[0;32mnot\u001b[0m \u001b[0;32min\u001b[0m \u001b[0mmode\u001b[0m\u001b[0;34m:\u001b[0m\u001b[0;34m\u001b[0m\u001b[0;34m\u001b[0m\u001b[0m\n\u001b[1;32m   1734\u001b[0m                     \u001b[0mmode\u001b[0m \u001b[0;34m+=\u001b[0m \u001b[0;34m\"b\"\u001b[0m\u001b[0;34m\u001b[0m\u001b[0;34m\u001b[0m\u001b[0m\n\u001b[0;32m-> 1735\u001b[0;31m             self.handles = get_handle(\n\u001b[0m\u001b[1;32m   1736\u001b[0m                 \u001b[0mf\u001b[0m\u001b[0;34m,\u001b[0m\u001b[0;34m\u001b[0m\u001b[0;34m\u001b[0m\u001b[0m\n\u001b[1;32m   1737\u001b[0m                 \u001b[0mmode\u001b[0m\u001b[0;34m,\u001b[0m\u001b[0;34m\u001b[0m\u001b[0;34m\u001b[0m\u001b[0m\n",
            "\u001b[0;32m/usr/local/lib/python3.10/dist-packages/pandas/io/common.py\u001b[0m in \u001b[0;36mget_handle\u001b[0;34m(path_or_buf, mode, encoding, compression, memory_map, is_text, errors, storage_options)\u001b[0m\n\u001b[1;32m    854\u001b[0m         \u001b[0;32mif\u001b[0m \u001b[0mioargs\u001b[0m\u001b[0;34m.\u001b[0m\u001b[0mencoding\u001b[0m \u001b[0;32mand\u001b[0m \u001b[0;34m\"b\"\u001b[0m \u001b[0;32mnot\u001b[0m \u001b[0;32min\u001b[0m \u001b[0mioargs\u001b[0m\u001b[0;34m.\u001b[0m\u001b[0mmode\u001b[0m\u001b[0;34m:\u001b[0m\u001b[0;34m\u001b[0m\u001b[0;34m\u001b[0m\u001b[0m\n\u001b[1;32m    855\u001b[0m             \u001b[0;31m# Encoding\u001b[0m\u001b[0;34m\u001b[0m\u001b[0;34m\u001b[0m\u001b[0m\n\u001b[0;32m--> 856\u001b[0;31m             handle = open(\n\u001b[0m\u001b[1;32m    857\u001b[0m                 \u001b[0mhandle\u001b[0m\u001b[0;34m,\u001b[0m\u001b[0;34m\u001b[0m\u001b[0;34m\u001b[0m\u001b[0m\n\u001b[1;32m    858\u001b[0m                 \u001b[0mioargs\u001b[0m\u001b[0;34m.\u001b[0m\u001b[0mmode\u001b[0m\u001b[0;34m,\u001b[0m\u001b[0;34m\u001b[0m\u001b[0;34m\u001b[0m\u001b[0m\n",
            "\u001b[0;31mFileNotFoundError\u001b[0m: [Errno 2] No such file or directory: './data/wk1/data.csv'"
          ]
        }
      ],
      "source": [
        "data = pandas.read_csv('./data/wk1/data.csv')\n",
        "data.head()"
      ]
    },
    {
      "cell_type": "markdown",
      "metadata": {
        "id": "iIO-rbSrbPyH"
      },
      "source": [
        "What we've done here is read in a .csv file into a dataframe, the object pandas uses to work with data, and one that has lots of methods for slicing and dicing data, as we will see over the coming weeks. The head() command tells iPython to show the first few columns/rows of the data, so we can start to get a sense of what the data looks like and what sort of type of objects is represents."
      ]
    },
    {
      "cell_type": "markdown",
      "metadata": {
        "id": "coZ9wTrf0Ocd"
      },
      "source": [
        "A common first step for exploring our data is to sort it. In Pandas, this can be done easily with the `sort_values()` function. We can specify which column to sort the data by, and whether we want to sort in ascending or descending order, using the optional arguments `by` and `ascending`, respectively. In the example below, we're sorting in *descending* order of height:"
      ]
    },
    {
      "cell_type": "code",
      "execution_count": null,
      "metadata": {
        "id": "8wijKcab0Ocd",
        "outputId": "ab460449-1c0f-43af-c4d2-9d5c92f4e31a"
      },
      "outputs": [
        {
          "data": {
            "text/html": [
              "<div>\n",
              "<style scoped>\n",
              "    .dataframe tbody tr th:only-of-type {\n",
              "        vertical-align: middle;\n",
              "    }\n",
              "\n",
              "    .dataframe tbody tr th {\n",
              "        vertical-align: top;\n",
              "    }\n",
              "\n",
              "    .dataframe thead th {\n",
              "        text-align: right;\n",
              "    }\n",
              "</style>\n",
              "<table border=\"1\" class=\"dataframe\">\n",
              "  <thead>\n",
              "    <tr style=\"text-align: right;\">\n",
              "      <th></th>\n",
              "      <th>Name</th>\n",
              "      <th>First Appearance</th>\n",
              "      <th>Approx height</th>\n",
              "      <th>Gender</th>\n",
              "      <th>Law Enforcement</th>\n",
              "    </tr>\n",
              "  </thead>\n",
              "  <tbody>\n",
              "    <tr>\n",
              "      <th>4</th>\n",
              "      <td>Giant</td>\n",
              "      <td>2.1</td>\n",
              "      <td>7.5</td>\n",
              "      <td>Male</td>\n",
              "      <td>False</td>\n",
              "    </tr>\n",
              "    <tr>\n",
              "      <th>0</th>\n",
              "      <td>Bob</td>\n",
              "      <td>1.2</td>\n",
              "      <td>6.0</td>\n",
              "      <td>Male</td>\n",
              "      <td>False</td>\n",
              "    </tr>\n",
              "    <tr>\n",
              "      <th>2</th>\n",
              "      <td>Coop</td>\n",
              "      <td>1.1</td>\n",
              "      <td>6.0</td>\n",
              "      <td>Male</td>\n",
              "      <td>True</td>\n",
              "    </tr>\n",
              "    <tr>\n",
              "      <th>1</th>\n",
              "      <td>Mike</td>\n",
              "      <td>1.2</td>\n",
              "      <td>5.5</td>\n",
              "      <td>Male</td>\n",
              "      <td>False</td>\n",
              "    </tr>\n",
              "    <tr>\n",
              "      <th>3</th>\n",
              "      <td>Maddy</td>\n",
              "      <td>1.3</td>\n",
              "      <td>5.5</td>\n",
              "      <td>Female</td>\n",
              "      <td>False</td>\n",
              "    </tr>\n",
              "  </tbody>\n",
              "</table>\n",
              "</div>"
            ],
            "text/plain": [
              "    Name  First Appearance  Approx height  Gender  Law Enforcement\n",
              "4  Giant               2.1            7.5    Male            False\n",
              "0    Bob               1.2            6.0    Male            False\n",
              "2   Coop               1.1            6.0    Male             True\n",
              "1   Mike               1.2            5.5    Male            False\n",
              "3  Maddy               1.3            5.5  Female            False"
            ]
          },
          "execution_count": 14,
          "metadata": {},
          "output_type": "execute_result"
        }
      ],
      "source": [
        "data.sort_values(by='Approx height', ascending=False).head()"
      ]
    },
    {
      "cell_type": "markdown",
      "metadata": {
        "id": "SYT8xvlYaimE"
      },
      "source": [
        "# Supplementary: Kaggle exercises\n",
        "\n",
        "If you've gotten this far, congratulations! To further hone your skills, try working your way through the five [intro to programming notebooks on Kaggle](https://www.kaggle.com/learn/intro-to-programming). These cover a range of skills that we'll be using throughout the term. Kaggle is a very useful resource for learning data science, so making an account may not be a bad idea!"
      ]
    },
    {
      "cell_type": "markdown",
      "metadata": {
        "id": "Ec-5N10J0Ocd"
      },
      "source": [
        "# Assessed Question\n",
        "\n",
        "The URL below contains a dataset of the most streamed songs on spotify in 2023:\n",
        "https://storage.googleapis.com/qm2/wk1/spotify-2023.csv\n",
        "\n",
        "1. Download the dataset and save it in the `./data/wk1/` directory. (hint: curl)\n",
        "2. Load the dataset as a pandas dataframe. (hint: pandas.read_csv)\n",
        "3. Sort the dataframe in descending order of streams. (hint: sort_values)\n",
        "\n",
        "QUESTION: what song has the highest number of streams in this dataset?"
      ]
    },
    {
      "cell_type": "code",
      "execution_count": null,
      "metadata": {
        "id": "KkAOHZN-0Ocd",
        "colab": {
          "base_uri": "https://localhost:8080/"
        },
        "outputId": "d6492dd4-e7ca-4c5a-a1dc-78830297d6ab"
      },
      "outputs": [
        {
          "output_type": "stream",
          "name": "stdout",
          "text": [
            "mkdir: cannot create directory ‘./data/wk1’: File exists\n",
            "  % Total    % Received % Xferd  Average Speed   Time    Time     Time  Current\n",
            "                                 Dload  Upload   Total   Spent    Left  Speed\n",
            "100  104k  100  104k    0     0   941k      0 --:--:-- --:--:-- --:--:--  934k\n",
            "Blinding lights\n"
          ]
        }
      ],
      "source": [
        "!mkdir ./data/wk1\n",
        "!curl https://storage.googleapis.com/qm2/wk1/spotify-2023.csv -o ./data/wk1/spotify.csv\n",
        "import pandas\n",
        "import matplotlib\n",
        "%matplotlib inline\n",
        "data=pandas.read_csv('./data/wk1/spotify.csv')\n",
        "data.head()\n",
        "data.sort_values(by='streams', ascending=False).head()\n",
        "print('Blinding lights')"
      ]
    },
    {
      "cell_type": "code",
      "source": [
        "import numpy as np\n",
        "import matplotlib.pyplot as plt\n",
        "\n",
        "# Parameters (adjust as needed)\n",
        "v = 0.7  # Benefit/payoff\n",
        "c = 1  # Cost of stress when lying\n",
        "\n",
        "# Calculate expected payoff functions\n",
        "p_values = np.linspace(0, 1, 100)\n",
        "E_H = 0.65 * v - 0.35 * c\n",
        "E_D = 0.15 * v\n",
        "\n",
        "# Plot expected payoff functions\n",
        "plt.plot(p_values, E_H * np.ones_like(p_values), label='Expected Payoff for Hawk')\n",
        "plt.plot(p_values, E_D * np.ones_like(p_values), label='Expected Payoff for Dove')\n",
        "\n",
        "# Identify intersection points (mixed strategy equilibrium)\n",
        "intersection_point = (E_D - 0.65 * v + 0.35 * c) / (0.65 - 0.15)\n",
        "plt.plot(intersection_point, E_H, 'ro')  # Plot intersection point\n",
        "plt.text(intersection_point, E_H, 'Equilibrium', verticalalignment='bottom', horizontalalignment='right')\n",
        "\n",
        "# Label axes and add legend\n",
        "plt.xlabel('Probability of Playing Hawk (p)')\n",
        "plt.ylabel('Expected Payoff')\n",
        "plt.legend()\n",
        "\n",
        "# Show plot\n",
        "plt.grid(True)\n",
        "plt.title('Phase Plane Diagram for Hawk/Dove Game')\n",
        "plt.show()"
      ],
      "metadata": {
        "id": "TrMrcWM1nhmV",
        "outputId": "eec150cf-0a91-46b6-94f0-6191209f9ce0",
        "colab": {
          "base_uri": "https://localhost:8080/",
          "height": 472
        }
      },
      "execution_count": 4,
      "outputs": [
        {
          "output_type": "display_data",
          "data": {
            "text/plain": [
              "<Figure size 640x480 with 1 Axes>"
            ],
            "image/png": "[encoded data removed]"
          },
          "metadata": {}
        }
      ]
    },
    {
      "cell_type": "code",
      "source": [
        "import random\n",
        "\n",
        "class Bird:\n",
        "    def __init__(self, strategy):\n",
        "        \"\"\"\n",
        "        Each bird has a strategy type (hawk or dove)\n",
        "        And a small starting fitness\n",
        "        \"\"\"\n",
        "        self.strategy = strategy\n",
        "        self.fitness = 10\n",
        "\n",
        "    def contest(self, opponent, v, c):\n",
        "        \"\"\"\n",
        "        Simulate the outcomes depending on the strategies\n",
        "        \"\"\"\n",
        "        # both hawks --> 50:50 battle\n",
        "        if self.strategy == opponent.strategy == \"hawk\":\n",
        "            if random.randint(0, 1) == 1:\n",
        "                self.fitness = self.fitness + v\n",
        "                opponent.fitness = opponent.fitness - c\n",
        "            else:\n",
        "                self.fitness = self.fitness - c\n",
        "                opponent.fitness = opponent.fitness + v\n",
        "        # hawk meets dove\n",
        "        elif self.strategy == \"hawk\" != opponent.strategy:\n",
        "            self.fitness = self.fitness + v - c\n",
        "            opponent.fitness = opponent.fitness\n",
        "        elif self.strategy == \"dove\" != opponent.strategy:\n",
        "            self.fitness = self.fitness\n",
        "            opponent.fitness = opponent.fitness + v - c\n",
        "        # both doves --> 50:50 battle\n",
        "        else:\n",
        "            if random.randint(0, 1) == 1:\n",
        "                self.fitness = self.fitness + v\n",
        "                opponent.fitness = opponent.fitness\n",
        "            else:\n",
        "                self.fitness = self.fitness\n",
        "                opponent.fitness = opponent.fitness + v\n",
        "\n",
        "    def spawn(self):\n",
        "        \"\"\"\n",
        "        Allow a small chance of mutation to flip strategy\n",
        "        Otherwise, return offspring of the same type\n",
        "        \"\"\"\n",
        "        mutation = random.randint(0, 1000) > 999\n",
        "        if mutation:\n",
        "            if self.strategy == \"dove\":\n",
        "                return Bird(\"hawk\")\n",
        "            else:\n",
        "                return Bird(\"dove\")\n",
        "        else:\n",
        "            return Bird(self.strategy)"
      ],
      "metadata": {
        "id": "-QqGw719MD0c"
      },
      "execution_count": 28,
      "outputs": []
    },
    {
      "cell_type": "code",
      "source": [
        "\n",
        "import random\n",
        "import numpy as np\n",
        "import pandas as pd\n",
        "import matplotlib as plt\n",
        "\n",
        "\n",
        "def initialise():\n",
        "    \"\"\"\n",
        "    Create a population of birds - all dove to begin\n",
        "    \"\"\"\n",
        "\n",
        "    birds = []\n",
        "\n",
        "    for _ in range(1000):\n",
        "        birds.append(Bird(\"dove\"))\n",
        "\n",
        "    return (birds)\n",
        "\n",
        "def timestep(birds, value, cost, fitness_floor=1):\n",
        "    \"\"\"\n",
        "    Pair up the birds, make them compete\n",
        "    Then produce next generation, weighted by fitness\n",
        "    \"\"\"\n",
        "\n",
        "    next_generation = []\n",
        "\n",
        "    random.shuffle(birds)\n",
        "\n",
        "    for _ in range(1000):\n",
        "\n",
        "        # pair up random birds to contest\n",
        "        a, b = random.sample(birds, 2)\n",
        "        a.contest(b, value, cost)\n",
        "\n",
        "    # Apply fitness floor\n",
        "    for bird in birds:\n",
        "        bird.fitness = max(bird.fitness, fitness_floor)\n",
        "\n",
        "    # generate next generation\n",
        "    fitnesses = [bird.fitness for bird in birds]\n",
        "\n",
        "    draw = random.choices(birds, k=1000, weights=fitnesses)\n",
        "    next_generation = [bird.spawn() for bird in draw]\n",
        "\n",
        "    return next_generation\n",
        "\n",
        "\n",
        "def main():\n",
        "\n",
        "    birds = initialise()\n",
        "\n",
        "    rows = []\n",
        "\n",
        "    V = 5.5 ; C = 5\n",
        "\n",
        "    for _ in range(1000):\n",
        "\n",
        "        # add the counts to a new row\n",
        "        strategy = [bird.strategy for bird in birds]\n",
        "        n_hawks = strategy.count(\"hawk\")\n",
        "        n_doves =  strategy.count(\"dove\")\n",
        "        row = {'liars': n_hawks, 'honest': n_doves}\n",
        "        rows.append(row)\n",
        "\n",
        "        # run the timestep function\n",
        "        birds = timestep(birds, V, C)\n",
        "\n",
        "    df = pd.DataFrame(rows)\n",
        "    df.to_csv('simulation.csv')\n",
        "    fig = df.plot(y=[\"liars\", \"honest\"]).get_figure()\n",
        "    fig.savefig('simulation.pdf')\n",
        "\n",
        "if __name__ == \"__main__\":\n",
        "    main()"
      ],
      "metadata": {
        "id": "5V_aO00uN7eV",
        "outputId": "7980d4f3-13ac-41fe-cb1d-7dcd030683ed",
        "colab": {
          "base_uri": "https://localhost:8080/",
          "height": 430
        }
      },
      "execution_count": 40,
      "outputs": [
        {
          "output_type": "display_data",
          "data": {
            "text/plain": [
              "<Figure size 640x480 with 1 Axes>"
            ],
            "image/png": "[encoded data removed]"
          },
          "metadata": {}
        }
      ]
    },
    {
      "cell_type": "code",
      "source": [
        "import random\n",
        "import numpy as np\n",
        "import pandas as pd\n",
        "import matplotlib.pyplot as plt\n",
        "\n",
        "# Your Bird class and other functions...\n",
        "\n",
        "def simulate_population_dynamics(V, C, max_rounds):\n",
        "    \"\"\"\n",
        "    Simulate the population dynamics for a given value of V.\n",
        "    \"\"\"\n",
        "    birds = initialise()\n",
        "    rows = []\n",
        "\n",
        "    for round_num in range(max_rounds):\n",
        "        strategy = [bird.strategy for bird in birds]\n",
        "        n_hawks = strategy.count(\"hawk\")\n",
        "        n_doves = strategy.count(\"dove\")\n",
        "        row = {'Round': round_num, 'n_hawks': n_hawks, 'n_doves': n_doves}\n",
        "        rows.append(row)\n",
        "        birds = timestep(birds, V, C)\n",
        "\n",
        "    return pd.DataFrame(rows)\n",
        "\n",
        "def main():\n",
        "    C = 10  # Cost of fighting\n",
        "    max_rounds = 1000  # Maximum number of rounds to simulate\n",
        "\n",
        "    # Simulate population dynamics for V=3.7\n",
        "    V1 = 6.1\n",
        "    df1 = simulate_population_dynamics(V1, C, max_rounds)\n",
        "\n",
        "    # Simulate population dynamics for V=8.5\n",
        "    V2 = 7\n",
        "    df2 = simulate_population_dynamics(V2, C, max_rounds)\n",
        "\n",
        "    V3 = 8.5\n",
        "    df3 = simulate_population_dynamics(V3, C, max_rounds)\n",
        "\n",
        "    # Plot population dynamics for both values of V\n",
        "    plt.plot(df3['Round'], df3['n_hawks'], label=f'liars, p=0.85', color='royalblue')\n",
        "    plt.plot(df2['Round'], df2['n_hawks'], label=f'liars, p=0.7', color='blue')\n",
        "    plt.plot(df1['Round'], df1['n_hawks'], label=f'liars, p=0.61', color='navy')\n",
        "    plt.plot(df1['Round'], df1['n_doves'], label=f'honest, p=0.61', color='red')\n",
        "    plt.plot(df2['Round'], df2['n_doves'], label=f'honest, p=0.7', color='magenta')\n",
        "    plt.plot(df3['Round'], df3['n_doves'], label=f'honest, p=0.85', color='crimson')\n",
        "\n",
        "    plt.xlabel('Rounds')\n",
        "    plt.ylabel('Population')\n",
        "    plt.legend()\n",
        "    plt.savefig('population_dynamics.png')\n",
        "    plt.show()\n",
        "\n",
        "if __name__ == \"__main__\":\n",
        "    main()\n"
      ],
      "metadata": {
        "id": "gotTsyK76pDC",
        "outputId": "01edc14f-03d5-453a-df6e-224897be141a",
        "colab": {
          "base_uri": "https://localhost:8080/",
          "height": 449
        }
      },
      "execution_count": 35,
      "outputs": [
        {
          "output_type": "display_data",
          "data": {
            "text/plain": [
              "<Figure size 640x480 with 1 Axes>"
            ],
            "image/png": "[encoded data removed]"
          },
          "metadata": {}
        }
      ]
    },
    {
      "cell_type": "code",
      "source": [
        "import random\n",
        "import numpy as np\n",
        "import pandas as pd\n",
        "import matplotlib.pyplot as plt\n",
        "\n",
        "# Your Bird class and other functions...\n",
        "\n",
        "def simulate_population_dynamics(V, C, max_rounds):\n",
        "    \"\"\"\n",
        "    Simulate the population dynamics for a given value of V.\n",
        "    \"\"\"\n",
        "    birds = initialise()\n",
        "    rows = []\n",
        "\n",
        "    for round_num in range(max_rounds):\n",
        "        strategy = [bird.strategy for bird in birds]\n",
        "        n_hawks = strategy.count(\"hawk\")\n",
        "        n_doves = strategy.count(\"dove\")\n",
        "        row = {'Round': round_num, 'n_hawks': n_hawks, 'n_doves': n_doves}\n",
        "        rows.append(row)\n",
        "        birds = timestep(birds, V, C)\n",
        "\n",
        "    return pd.DataFrame(rows)\n",
        "\n",
        "def main():\n",
        "    C = 10  # Cost of fighting\n",
        "    max_rounds = 1000  # Maximum number of rounds to simulate\n",
        "\n",
        "    # Simulate population dynamics for V=3.7\n",
        "    V1 = 3.7\n",
        "    df1 = simulate_population_dynamics(V1, C, max_rounds)\n",
        "\n",
        "    # Simulate population dynamics for V=8.5\n",
        "    V2 = 4.3\n",
        "    df2 = simulate_population_dynamics(V2, C, max_rounds)\n",
        "\n",
        "    # Plot population dynamics for both values of V\n",
        "    plt.plot(df1['Round'], df1['n_doves'], label=f'honest, p=0.37', color='gold')\n",
        "\n",
        "    plt.plot(df1['Round'], df1['n_hawks'], label=f'liars, p=0.37', color='teal')\n",
        "\n",
        "\n",
        "    plt.xlabel('Rounds')\n",
        "    plt.ylabel('Population')\n",
        "    plt.legend()\n",
        "    plt.savefig('population_dynamics.png')\n",
        "    plt.show()\n",
        "\n",
        "if __name__ == \"__main__\":\n",
        "    main()"
      ],
      "metadata": {
        "id": "4qyRt7ELG34a",
        "outputId": "a07d3717-4402-443c-ec9c-a4dd86bc3c56",
        "colab": {
          "base_uri": "https://localhost:8080/",
          "height": 449
        }
      },
      "execution_count": 38,
      "outputs": [
        {
          "output_type": "display_data",
          "data": {
            "text/plain": [
              "<Figure size 640x480 with 1 Axes>"
            ],
            "image/png": "[encoded data removed]"
          },
          "metadata": {}
        }
      ]
    },
    {
      "cell_type": "code",
      "source": [
        "import random\n",
        "import numpy as np\n",
        "import pandas as pd\n",
        "import matplotlib.pyplot as plt\n",
        "\n",
        "# Your Bird class and other functions...\n",
        "\n",
        "def main():\n",
        "\n",
        "    birds = initialise()\n",
        "\n",
        "    rows = []\n",
        "\n",
        "    V = 4.7\n",
        "    C = 10\n",
        "\n",
        "def main():\n",
        "\n",
        "    birds = initialise()\n",
        "\n",
        "    rows = []\n",
        "\n",
        "    V = 4.7 ; C = 10\n",
        "\n",
        "    for _ in range(1000):\n",
        "\n",
        "    for round_num in range(1000):\n",
        "\n",
        "        # Add the counts to a new row\n",
        "        strategy = [bird.strategy for bird in birds]\n",
        "        n_hawks = strategy.count(\"hawk\")\n",
        "        n_doves =  strategy.count(\"dove\")\n",
        "        row = {'Round': round_num, 'n_hawks': n_hawks, 'n_doves': n_doves}\n",
        "        rows.append(row)\n",
        "\n",
        "        # Run the timestep function\n",
        "        birds = timestep(birds, V, C)\n",
        "\n",
        "    # Create dataframe and save output\n",
        "    df = pd.DataFrame(rows)\n",
        "    df.to_csv('simulation.csv')\n",
        "\n",
        "    # Plot population dynamics\n",
        "    fig, ax = plt.subplots()\n",
        "    df.plot(ax=ax, x=\"Round\", y=[\"n_hawks\", \"n_doves\"])\n",
        "    ax.set_xlabel('Rounds')\n",
        "    ax.set_ylabel('Population')\n",
        "    plt.savefig('simulation.pdf')\n",
        "\n",
        "if __name__ == \"__main__\":\n",
        "    main()"
      ],
      "metadata": {
        "id": "HW-wMK9vm_Ek",
        "outputId": "ee30295d-4e4b-44ee-b844-8eac1a5299a2",
        "colab": {
          "base_uri": "https://localhost:8080/",
          "height": 305
        }
      },
      "execution_count": 3,
      "outputs": [
        {
          "output_type": "error",
          "ename": "NameError",
          "evalue": "name 'initialise' is not defined",
          "traceback": [
            "\u001b[0;31m---------------------------------------------------------------------------\u001b[0m",
            "\u001b[0;31mNameError\u001b[0m                                 Traceback (most recent call last)",
            "\u001b[0;32m<ipython-input-3-9fea4202b18f>\u001b[0m in \u001b[0;36m<cell line: 40>\u001b[0;34m()\u001b[0m\n\u001b[1;32m     39\u001b[0m \u001b[0;34m\u001b[0m\u001b[0m\n\u001b[1;32m     40\u001b[0m \u001b[0;32mif\u001b[0m \u001b[0m__name__\u001b[0m \u001b[0;34m==\u001b[0m \u001b[0;34m\"__main__\"\u001b[0m\u001b[0;34m:\u001b[0m\u001b[0;34m\u001b[0m\u001b[0;34m\u001b[0m\u001b[0m\n\u001b[0;32m---> 41\u001b[0;31m     \u001b[0mmain\u001b[0m\u001b[0;34m(\u001b[0m\u001b[0;34m)\u001b[0m\u001b[0;34m\u001b[0m\u001b[0;34m\u001b[0m\u001b[0m\n\u001b[0m",
            "\u001b[0;32m<ipython-input-3-9fea4202b18f>\u001b[0m in \u001b[0;36mmain\u001b[0;34m()\u001b[0m\n\u001b[1;32m      8\u001b[0m \u001b[0;32mdef\u001b[0m \u001b[0mmain\u001b[0m\u001b[0;34m(\u001b[0m\u001b[0;34m)\u001b[0m\u001b[0;34m:\u001b[0m\u001b[0;34m\u001b[0m\u001b[0;34m\u001b[0m\u001b[0m\n\u001b[1;32m      9\u001b[0m \u001b[0;34m\u001b[0m\u001b[0m\n\u001b[0;32m---> 10\u001b[0;31m     \u001b[0mbirds\u001b[0m \u001b[0;34m=\u001b[0m \u001b[0minitialise\u001b[0m\u001b[0;34m(\u001b[0m\u001b[0;34m)\u001b[0m\u001b[0;34m\u001b[0m\u001b[0;34m\u001b[0m\u001b[0m\n\u001b[0m\u001b[1;32m     11\u001b[0m \u001b[0;34m\u001b[0m\u001b[0m\n\u001b[1;32m     12\u001b[0m     \u001b[0mrows\u001b[0m \u001b[0;34m=\u001b[0m \u001b[0;34m[\u001b[0m\u001b[0;34m]\u001b[0m\u001b[0;34m\u001b[0m\u001b[0;34m\u001b[0m\u001b[0m\n",
            "\u001b[0;31mNameError\u001b[0m: name 'initialise' is not defined"
          ]
        }
      ]
    },
    {
      "cell_type": "code",
      "source": [
        "import random\n",
        "import numpy as np\n",
        "import pandas as pd\n",
        "import matplotlib.pyplot as plt\n",
        "\n",
        "# Your Bird class and other functions...\n",
        "\n",
        "def find_equilibrium_V(initial_V_range, step_size, max_rounds):\n",
        "    \"\"\"\n",
        "    Find the value of V such that the number of hawks and doves in the long term are approximately the same.\n",
        "    \"\"\"\n",
        "    results = []\n",
        "\n",
        "    for V in np.arange(initial_V_range[0], initial_V_range[1], step_size):\n",
        "        birds = initialise()\n",
        "        C = 10  # Choose an appropriate value for C\n",
        "        n_hawks_list = []\n",
        "        n_doves_list = []\n",
        "\n",
        "        for round_num in range(max_rounds):\n",
        "            strategy = [bird.strategy for bird in birds]\n",
        "            n_hawks = strategy.count(\"hawk\")\n",
        "            n_hawks_list.append(n_hawks)\n",
        "            n_doves = strategy.count(\"dove\")\n",
        "            n_doves_list.append(n_doves)\n",
        "            birds = timestep(birds, V, C)\n",
        "\n",
        "        # Calculate the absolute difference between n_hawks and n_doves\n",
        "        difference = np.abs(np.array(n_hawks_list) - np.array(n_doves_list)).mean()\n",
        "\n",
        "        results.append((V, difference))\n",
        "\n",
        "    # Find the value of V with the minimum absolute difference\n",
        "    min_difference = min(results, key=lambda x: x[1])\n",
        "\n",
        "    return min_difference[0]\n",
        "\n",
        "def main():\n",
        "    initial_V_range = (1, 10)  # Initial range of V to search within\n",
        "    step_size = 0.1  # Step size for iterating over V\n",
        "    max_rounds = 100  # Maximum number of rounds to simulate\n",
        "\n",
        "    equilibrium_V = find_equilibrium_V(initial_V_range, step_size, max_rounds)\n",
        "    print(\"Equilibrium value of V:\", equilibrium_V)\n",
        "\n",
        "    # Further code...\n",
        "\n",
        "if __name__ == \"__main__\":\n",
        "    main()"
      ],
      "metadata": {
        "id": "x_KnEo6Pr4sx",
        "outputId": "3d46e74e-ff4c-4844-d348-32e047472fb4",
        "colab": {
          "base_uri": "https://localhost:8080/"
        }
      },
      "execution_count": 14,
      "outputs": [
        {
          "output_type": "stream",
          "name": "stdout",
          "text": [
            "Equilibrium value of V: 4.3000000000000025\n"
          ]
        }
      ]
    },
    {
      "cell_type": "code",
      "source": [
        "import random\n",
        "import numpy as np\n",
        "import pandas as pd\n",
        "import matplotlib.pyplot as plt\n",
        "\n",
        "class Bird:\n",
        "    def __init__(self, strategy):\n",
        "        \"\"\"\n",
        "        Each bird has a strategy type (hawk or dove)\n",
        "        And a small starting fitness\n",
        "        \"\"\"\n",
        "        self.strategy = strategy\n",
        "        self.fitness = 2\n",
        "\n",
        "    def contest(self, opponent, v, c):\n",
        "        \"\"\"\n",
        "        Simulate the outcomes depending on the strategies\n",
        "        \"\"\"\n",
        "        # both hawks --> 50:50 battle\n",
        "        if self.strategy == opponent.strategy == \"hawk\":\n",
        "            if random.randint(0, 1) == 1:\n",
        "                self.fitness = self.fitness + v\n",
        "                opponent.fitness = opponent.fitness - c\n",
        "            else:\n",
        "                self.fitness = self.fitness - c\n",
        "                opponent.fitness = opponent.fitness + v\n",
        "        # hawk meets dove\n",
        "        elif self.strategy == \"hawk\" != opponent.strategy:\n",
        "            self.fitness = self.fitness + v - c\n",
        "            opponent.fitness = opponent.fitness\n",
        "        elif self.strategy == \"dove\" != opponent.strategy:\n",
        "            self.fitness = self.fitness\n",
        "            opponent.fitness = opponent.fitness + v - c\n",
        "        # both doves --> 50:50 battle\n",
        "        else:\n",
        "            if random.randint(0, 1) == 1:\n",
        "                self.fitness = self.fitness + v\n",
        "                opponent.fitness = opponent.fitness\n",
        "            else:\n",
        "                self.fitness = self.fitness\n",
        "                opponent.fitness = opponent.fitness + v\n",
        "\n",
        "    def spawn(self):\n",
        "        \"\"\"\n",
        "        Allow a small chance of mutation to flip strategy\n",
        "        Otherwise, return offspring of the same type\n",
        "        \"\"\"\n",
        "        mutation = random.randint(0, 1000) > 999\n",
        "        if mutation:\n",
        "            if self.strategy == \"dove\":\n",
        "                return Bird(\"hawk\")\n",
        "            else:\n",
        "                return Bird(\"dove\")\n",
        "        else:\n",
        "            return Bird(self.strategy)\n",
        "\n",
        "\n",
        "def initialise():\n",
        "    \"\"\"\n",
        "    Create a population of birds - all dove to begin\n",
        "    \"\"\"\n",
        "    birds = []\n",
        "    for _ in range(1000):\n",
        "        birds.append(Bird(\"dove\"))\n",
        "    return birds\n",
        "\n",
        "\n",
        "def timestep(birds, v, c, fitness_floor=1):\n",
        "    \"\"\"\n",
        "    Pair up the birds, make them compete\n",
        "    Then produce next generation, weighted by fitness\n",
        "    \"\"\"\n",
        "    next_generation = []\n",
        "    random.shuffle(birds)\n",
        "    for _ in range(1000):\n",
        "        # pair up random birds to contest\n",
        "        a, b = random.sample(birds, 2)\n",
        "        a.contest(b, v, c)\n",
        "    # Apply fitness floor\n",
        "    for bird in birds:\n",
        "        bird.fitness = max(bird.fitness, fitness_floor)\n",
        "    # generate next generation\n",
        "    fitnesses = [bird.fitness for bird in birds]\n",
        "    draw = random.choices(birds, k=1000, weights=fitnesses)\n",
        "    next_generation = [bird.spawn() for bird in draw]\n",
        "    return next_generation\n",
        "\n",
        "\n",
        "def main():\n",
        "    results = []\n",
        "\n",
        "    for v in range(11):\n",
        "        for c in range(11):\n",
        "            print(f\"Running simulation for v={v}, c={c}\")\n",
        "            birds = initialise()\n",
        "            for _ in range(100):\n",
        "                birds = timestep(birds, v, c)\n",
        "            strategy = [bird.strategy for bird in birds]\n",
        "            n_hawks = strategy.count(\"hawk\")\n",
        "            n_doves =  strategy.count(\"dove\")\n",
        "            results.append({'v': v, 'c': c, 'hawks': n_hawks, 'doves': n_doves})\n",
        "\n",
        "    df = pd.DataFrame(results)\n",
        "    df.to_csv('simulation_results.csv')\n",
        "    print(\"Simulation completed. Results saved to 'simulation_results.csv'.\")\n",
        "\n",
        "if __name__ == \"__main__\":\n",
        "    main()"
      ],
      "metadata": {
        "id": "gaVpbmQ6eGkw",
        "outputId": "37b025b1-f721-4194-a0a1-89d534ee0089",
        "colab": {
          "base_uri": "https://localhost:8080/"
        }
      },
      "execution_count": 37,
      "outputs": [
        {
          "output_type": "stream",
          "name": "stdout",
          "text": [
            "Running simulation for v=0, c=0\n",
            "Running simulation for v=0, c=1\n",
            "Running simulation for v=0, c=2\n",
            "Running simulation for v=0, c=3\n",
            "Running simulation for v=0, c=4\n",
            "Running simulation for v=0, c=5\n",
            "Running simulation for v=0, c=6\n",
            "Running simulation for v=0, c=7\n",
            "Running simulation for v=0, c=8\n",
            "Running simulation for v=0, c=9\n",
            "Running simulation for v=0, c=10\n",
            "Running simulation for v=1, c=0\n",
            "Running simulation for v=1, c=1\n",
            "Running simulation for v=1, c=2\n",
            "Running simulation for v=1, c=3\n",
            "Running simulation for v=1, c=4\n",
            "Running simulation for v=1, c=5\n",
            "Running simulation for v=1, c=6\n",
            "Running simulation for v=1, c=7\n",
            "Running simulation for v=1, c=8\n",
            "Running simulation for v=1, c=9\n",
            "Running simulation for v=1, c=10\n",
            "Running simulation for v=2, c=0\n",
            "Running simulation for v=2, c=1\n",
            "Running simulation for v=2, c=2\n",
            "Running simulation for v=2, c=3\n",
            "Running simulation for v=2, c=4\n",
            "Running simulation for v=2, c=5\n",
            "Running simulation for v=2, c=6\n",
            "Running simulation for v=2, c=7\n",
            "Running simulation for v=2, c=8\n",
            "Running simulation for v=2, c=9\n",
            "Running simulation for v=2, c=10\n",
            "Running simulation for v=3, c=0\n",
            "Running simulation for v=3, c=1\n",
            "Running simulation for v=3, c=2\n",
            "Running simulation for v=3, c=3\n",
            "Running simulation for v=3, c=4\n",
            "Running simulation for v=3, c=5\n",
            "Running simulation for v=3, c=6\n",
            "Running simulation for v=3, c=7\n",
            "Running simulation for v=3, c=8\n",
            "Running simulation for v=3, c=9\n",
            "Running simulation for v=3, c=10\n",
            "Running simulation for v=4, c=0\n",
            "Running simulation for v=4, c=1\n",
            "Running simulation for v=4, c=2\n",
            "Running simulation for v=4, c=3\n",
            "Running simulation for v=4, c=4\n",
            "Running simulation for v=4, c=5\n",
            "Running simulation for v=4, c=6\n",
            "Running simulation for v=4, c=7\n",
            "Running simulation for v=4, c=8\n",
            "Running simulation for v=4, c=9\n",
            "Running simulation for v=4, c=10\n",
            "Running simulation for v=5, c=0\n",
            "Running simulation for v=5, c=1\n",
            "Running simulation for v=5, c=2\n",
            "Running simulation for v=5, c=3\n",
            "Running simulation for v=5, c=4\n",
            "Running simulation for v=5, c=5\n",
            "Running simulation for v=5, c=6\n",
            "Running simulation for v=5, c=7\n",
            "Running simulation for v=5, c=8\n",
            "Running simulation for v=5, c=9\n",
            "Running simulation for v=5, c=10\n",
            "Running simulation for v=6, c=0\n",
            "Running simulation for v=6, c=1\n",
            "Running simulation for v=6, c=2\n",
            "Running simulation for v=6, c=3\n",
            "Running simulation for v=6, c=4\n",
            "Running simulation for v=6, c=5\n",
            "Running simulation for v=6, c=6\n",
            "Running simulation for v=6, c=7\n",
            "Running simulation for v=6, c=8\n",
            "Running simulation for v=6, c=9\n",
            "Running simulation for v=6, c=10\n",
            "Running simulation for v=7, c=0\n",
            "Running simulation for v=7, c=1\n",
            "Running simulation for v=7, c=2\n",
            "Running simulation for v=7, c=3\n",
            "Running simulation for v=7, c=4\n",
            "Running simulation for v=7, c=5\n",
            "Running simulation for v=7, c=6\n",
            "Running simulation for v=7, c=7\n",
            "Running simulation for v=7, c=8\n",
            "Running simulation for v=7, c=9\n",
            "Running simulation for v=7, c=10\n",
            "Running simulation for v=8, c=0\n",
            "Running simulation for v=8, c=1\n",
            "Running simulation for v=8, c=2\n",
            "Running simulation for v=8, c=3\n",
            "Running simulation for v=8, c=4\n",
            "Running simulation for v=8, c=5\n",
            "Running simulation for v=8, c=6\n",
            "Running simulation for v=8, c=7\n",
            "Running simulation for v=8, c=8\n",
            "Running simulation for v=8, c=9\n",
            "Running simulation for v=8, c=10\n",
            "Running simulation for v=9, c=0\n",
            "Running simulation for v=9, c=1\n",
            "Running simulation for v=9, c=2\n",
            "Running simulation for v=9, c=3\n",
            "Running simulation for v=9, c=4\n",
            "Running simulation for v=9, c=5\n",
            "Running simulation for v=9, c=6\n",
            "Running simulation for v=9, c=7\n",
            "Running simulation for v=9, c=8\n",
            "Running simulation for v=9, c=9\n",
            "Running simulation for v=9, c=10\n",
            "Running simulation for v=10, c=0\n",
            "Running simulation for v=10, c=1\n",
            "Running simulation for v=10, c=2\n",
            "Running simulation for v=10, c=3\n",
            "Running simulation for v=10, c=4\n",
            "Running simulation for v=10, c=5\n",
            "Running simulation for v=10, c=6\n",
            "Running simulation for v=10, c=7\n",
            "Running simulation for v=10, c=8\n",
            "Running simulation for v=10, c=9\n",
            "Running simulation for v=10, c=10\n",
            "Simulation completed. Results saved to 'simulation_results.csv'.\n"
          ]
        }
      ]
    }
  ],
  "metadata": {
    "colab": {
      "provenance": [],
      "include_colab_link": true
    },
    "kernelspec": {
      "display_name": "Python 3.9.7 ('geo')",
      "language": "python",
      "name": "python3"
    },
    "language_info": {
      "codemirror_mode": {
        "name": "ipython",
        "version": 3
      },
      "file_extension": ".py",
      "mimetype": "text/x-python",
      "name": "python",
      "nbconvert_exporter": "python",
      "pygments_lexer": "ipython3",
      "version": "3.9.7"
    },
    "vscode": {
      "interpreter": {
        "hash": "8ee0682e3aec3eb14c273afe4405335ee3a64a018407db16d950813fa3a05036"
      }
    }
  },
  "nbformat": 4,
  "nbformat_minor": 0
}